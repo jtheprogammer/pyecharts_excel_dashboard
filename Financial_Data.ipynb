{
 "cells": [
  {
   "cell_type": "code",
   "execution_count": null,
   "id": "1784a115",
   "metadata": {},
   "outputs": [],
   "source": [
    "# all dependencies can be found in requirements.txt\n",
    "import pandas as pd\n",
    "from pyecharts import options as opts\n",
    "from pyecharts.charts import Bar, Calendar, Tab\n",
    "import pyecharts"
   ]
  },
  {
   "cell_type": "code",
   "execution_count": null,
   "id": "52000158",
   "metadata": {
    "scrolled": true
   },
   "outputs": [],
   "source": [
    "df = pd.read_excel(\n",
    "    io=\"Financial_Data.xlsx\",\n",
    "    engine=\"openpyxl\",\n",
    "    sheet_name=\"Orders\",\n",
    "    skiprows=2,\n",
    "    usecols=\"B:T\",\n",
    "    nrows=3312,)\n",
    "df"
   ]
  },
  {
   "cell_type": "code",
   "execution_count": null,
   "id": "56c3fa45",
   "metadata": {
    "scrolled": true
   },
   "outputs": [],
   "source": [
    "df.info()"
   ]
  },
  {
   "cell_type": "markdown",
   "id": "7e06d94e",
   "metadata": {},
   "source": [
    "### Manipulating the Data to Graph *Monthly Sales*"
   ]
  },
  {
   "cell_type": "code",
   "execution_count": null,
   "id": "14c04d34",
   "metadata": {
    "scrolled": true
   },
   "outputs": [],
   "source": [
    "df[\"Month\"] = df[\"Order Date\"].dt.month\n",
    "df"
   ]
  },
  {
   "cell_type": "code",
   "execution_count": null,
   "id": "2bc52a6d",
   "metadata": {},
   "outputs": [],
   "source": [
    "group_by_months = df.groupby(by=[\"Month\"]).sum()[[\"Sales\", \"Profit\"]]\n",
    "group_by_months"
   ]
  },
  {
   "cell_type": "markdown",
   "id": "206bf362",
   "metadata": {},
   "source": [
    "### *Note*: Pyecharts does not accept Pandas dataframe\n",
    "### Therefore, all dataframes columns are converted to arrays"
   ]
  },
  {
   "cell_type": "code",
   "execution_count": null,
   "id": "096b5d25",
   "metadata": {},
   "outputs": [],
   "source": [
    "monthly_sales = (\n",
    "    Bar()\n",
    "    .add_xaxis(group_by_months.index.tolist())\n",
    "    .add_yaxis(\"Sales\", group_by_months[\"Sales\"].round(0).tolist())\n",
    "    .add_yaxis(\"Profit\", group_by_months[\"Profit\"].round(0).tolist())\n",
    "    .set_global_opts(\n",
    "        title_opts=opts.TitleOpts(title=\"Sales & Profit by Month\", subtitle=\"in USD\")\n",
    "    )\n",
    ")"
   ]
  },
  {
   "cell_type": "markdown",
   "id": "247cb89b",
   "metadata": {},
   "source": [
    "## Sales & Profit by Month Bar Plot"
   ]
  },
  {
   "cell_type": "code",
   "execution_count": null,
   "id": "ca8cfc38",
   "metadata": {
    "scrolled": false
   },
   "outputs": [],
   "source": [
    "monthly_sales.render_notebook()"
   ]
  },
  {
   "cell_type": "markdown",
   "id": "6bd9df5b",
   "metadata": {},
   "source": [
    "## Sales & Profit by Sub-Category Bar Plot"
   ]
  },
  {
   "cell_type": "code",
   "execution_count": null,
   "id": "238de7cc",
   "metadata": {},
   "outputs": [],
   "source": [
    "group_by_subcat = df.groupby(by=[\"Sub-Category\"], as_index=False).sum().sort_values(by=[\"Sales\"])\n",
    "group_by_subcat"
   ]
  },
  {
   "cell_type": "code",
   "execution_count": null,
   "id": "eb668ff3",
   "metadata": {},
   "outputs": [],
   "source": [
    "sales_and_profit_by_subcat = (\n",
    "    Bar()\n",
    "    .add_xaxis(group_by_subcat.index.tolist())\n",
    "    .add_yaxis(\"Sales\", group_by_subcat[\"Sales\"].round(0).tolist())\n",
    "    .add_yaxis(\"Profit\", group_by_subcat[\"Profit\"].round(0).tolist())\n",
    "    .set_series_opts(label_opts=opts.LabelOpts(position=\"right\"))\n",
    "    .reversal_axis()\n",
    "    .set_global_opts(\n",
    "        title_opts=opts.TitleOpts(title=\"Sales & Profit by Sub-Category\", subtitle=\"in USD\"),\n",
    "    )\n",
    ")"
   ]
  },
  {
   "cell_type": "code",
   "execution_count": null,
   "id": "fc2459a5",
   "metadata": {},
   "outputs": [],
   "source": [
    "sales_and_profit_by_subcat.render_notebook()"
   ]
  },
  {
   "cell_type": "markdown",
   "id": "75ccf142",
   "metadata": {},
   "source": [
    "## Sales & Profit by Sub-Category Bar Plot"
   ]
  },
  {
   "cell_type": "code",
   "execution_count": null,
   "id": "e74d76ff",
   "metadata": {
    "scrolled": false
   },
   "outputs": [],
   "source": [
    "sales_by_date = df.groupby(by=[\"Order Date\"]).sum()[[\"Sales\"]].round(0)\n",
    "sales_by_date = sales_by_date.reset_index()\n",
    "sales_by_date"
   ]
  },
  {
   "cell_type": "markdown",
   "id": "f945762c",
   "metadata": {},
   "source": [
    "## Sales Calendar"
   ]
  },
  {
   "cell_type": "code",
   "execution_count": null,
   "id": "4706f0b3",
   "metadata": {},
   "outputs": [],
   "source": [
    "# index needs to be reset in order for Pandas to register the \"Order Date\" column\n",
    "sales_by_date_data = sales_by_date[[\"Order Date\", \"Sales\"]].values.tolist()\n",
    "max_sales = df[\"Sales\"].max()\n",
    "min_sales = df[\"Sales\"].min()"
   ]
  },
  {
   "cell_type": "code",
   "execution_count": null,
   "id": "615879cd",
   "metadata": {},
   "outputs": [],
   "source": [
    "sales_calendar = (\n",
    "    Calendar()\n",
    "    .add(\"\", sales_by_date_data, calendar_opts=opts.CalendarOpts(range_=\"2021\"))\n",
    "    .set_global_opts(\n",
    "        title_opts=opts.TitleOpts(title=\"Sales Calendar\", subtitle=\"in USD\"),\n",
    "        legend_opts=opts.LegendOpts(is_show=False),\n",
    "        visualmap_opts=opts.VisualMapOpts(\n",
    "            max_= max_sales,\n",
    "            min_= min_sales,\n",
    "            orient=\"horizontal\",\n",
    "            is_piecewise=False,\n",
    "            pos_top=\"230px\",\n",
    "            pos_left=\"100px\"\n",
    "        )\n",
    "    )\n",
    ")"
   ]
  },
  {
   "cell_type": "markdown",
   "id": "b8c11165",
   "metadata": {},
   "source": [
    "### Drag the Multicolor Slider below to Filter Sales Amount Displayed"
   ]
  },
  {
   "cell_type": "code",
   "execution_count": null,
   "id": "c6ccea93",
   "metadata": {
    "scrolled": false
   },
   "outputs": [],
   "source": [
    "sales_calendar.render_notebook()"
   ]
  },
  {
   "cell_type": "markdown",
   "id": "7d3e8ca5",
   "metadata": {},
   "source": [
    "## Compile All Charts into HTML File"
   ]
  },
  {
   "cell_type": "code",
   "execution_count": null,
   "id": "81f57141",
   "metadata": {},
   "outputs": [],
   "source": [
    "tab = Tab(page_title=\"Sales & Profit Overview\")\n",
    "tab.add(monthly_sales, \"Sales & Profit by Month\")\n",
    "tab.add(sales_and_profit_by_subcat, \"Sales & Profit by Sub-Category\")\n",
    "tab.add(sales_calendar, \"Sales Calendar\")\n",
    "tab.render(\"Sales_and_Profit_Overview.html\")"
   ]
  },
  {
   "cell_type": "code",
   "execution_count": null,
   "id": "d88e20d2",
   "metadata": {},
   "outputs": [],
   "source": []
  }
 ],
 "metadata": {
  "kernelspec": {
   "display_name": "Python 3 (ipykernel)",
   "language": "python",
   "name": "python3"
  },
  "language_info": {
   "codemirror_mode": {
    "name": "ipython",
    "version": 3
   },
   "file_extension": ".py",
   "mimetype": "text/x-python",
   "name": "python",
   "nbconvert_exporter": "python",
   "pygments_lexer": "ipython3",
   "version": "3.10.4"
  }
 },
 "nbformat": 4,
 "nbformat_minor": 5
}
